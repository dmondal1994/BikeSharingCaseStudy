{
 "cells": [
  {
   "cell_type": "markdown",
   "id": "b5082712",
   "metadata": {},
   "source": [
    "<h2> <center> Bike Sharing Assignment </center>"
   ]
  },
  {
   "cell_type": "markdown",
   "id": "98959613",
   "metadata": {},
   "source": [
    "<h2> <center> Student Name: Debasish Mondal, Co-hort: May-2022 </center>"
   ]
  },
  {
   "cell_type": "markdown",
   "id": "0e36218c",
   "metadata": {},
   "source": [
    "#### Problem Statement: Build a multiple linear regression model for the prediction of demand for shared bikes.\n",
    "#### Businees Goal: To correctly understand how demand varies with different characteristics so that bike companies can adjust their business strategies in line with the demand levels and client expectations."
   ]
  },
  {
   "cell_type": "markdown",
   "id": "604d804b",
   "metadata": {},
   "source": [
    "### Step 0: Import Libraries"
   ]
  },
  {
   "cell_type": "code",
   "execution_count": 1,
   "id": "444451ca",
   "metadata": {},
   "outputs": [],
   "source": [
    "# Import Libraries\n",
    "import warnings\n",
    "warnings.filterwarnings(action = 'ignore')\n",
    "\n",
    "import pandas as pd\n",
    "\n",
    "import seaborn as sns\n",
    "import matplotlib.pyplot as plt\n",
    "\n",
    "from sklearn.model_selection import train_test_split\n",
    "from sklearn.preprocessing import MinMaxScaler\n",
    "from sklearn.feature_selection import RFE\n",
    "from sklearn.linear_model import LinearRegression\n",
    "from sklearn.metrics import r2_score\n",
    "\n",
    "import statsmodels.api as sm \n",
    "from statsmodels.stats.outliers_influence import variance_inflation_factor"
   ]
  },
  {
   "cell_type": "markdown",
   "id": "b809b8b4",
   "metadata": {},
   "source": [
    "### Step 1: Data Reading"
   ]
  },
  {
   "cell_type": "code",
   "execution_count": 2,
   "id": "efcb396f",
   "metadata": {},
   "outputs": [
    {
     "data": {
      "text/html": [
       "<div>\n",
       "<style scoped>\n",
       "    .dataframe tbody tr th:only-of-type {\n",
       "        vertical-align: middle;\n",
       "    }\n",
       "\n",
       "    .dataframe tbody tr th {\n",
       "        vertical-align: top;\n",
       "    }\n",
       "\n",
       "    .dataframe thead th {\n",
       "        text-align: right;\n",
       "    }\n",
       "</style>\n",
       "<table border=\"1\" class=\"dataframe\">\n",
       "  <thead>\n",
       "    <tr style=\"text-align: right;\">\n",
       "      <th></th>\n",
       "      <th>instant</th>\n",
       "      <th>dteday</th>\n",
       "      <th>season</th>\n",
       "      <th>yr</th>\n",
       "      <th>mnth</th>\n",
       "      <th>holiday</th>\n",
       "      <th>weekday</th>\n",
       "      <th>workingday</th>\n",
       "      <th>weathersit</th>\n",
       "      <th>temp</th>\n",
       "      <th>atemp</th>\n",
       "      <th>hum</th>\n",
       "      <th>windspeed</th>\n",
       "      <th>casual</th>\n",
       "      <th>registered</th>\n",
       "      <th>cnt</th>\n",
       "    </tr>\n",
       "  </thead>\n",
       "  <tbody>\n",
       "    <tr>\n",
       "      <th>0</th>\n",
       "      <td>1</td>\n",
       "      <td>01-01-2018</td>\n",
       "      <td>1</td>\n",
       "      <td>0</td>\n",
       "      <td>1</td>\n",
       "      <td>0</td>\n",
       "      <td>6</td>\n",
       "      <td>0</td>\n",
       "      <td>2</td>\n",
       "      <td>14.110847</td>\n",
       "      <td>18.18125</td>\n",
       "      <td>80.5833</td>\n",
       "      <td>10.749882</td>\n",
       "      <td>331</td>\n",
       "      <td>654</td>\n",
       "      <td>985</td>\n",
       "    </tr>\n",
       "    <tr>\n",
       "      <th>1</th>\n",
       "      <td>2</td>\n",
       "      <td>02-01-2018</td>\n",
       "      <td>1</td>\n",
       "      <td>0</td>\n",
       "      <td>1</td>\n",
       "      <td>0</td>\n",
       "      <td>0</td>\n",
       "      <td>0</td>\n",
       "      <td>2</td>\n",
       "      <td>14.902598</td>\n",
       "      <td>17.68695</td>\n",
       "      <td>69.6087</td>\n",
       "      <td>16.652113</td>\n",
       "      <td>131</td>\n",
       "      <td>670</td>\n",
       "      <td>801</td>\n",
       "    </tr>\n",
       "    <tr>\n",
       "      <th>2</th>\n",
       "      <td>3</td>\n",
       "      <td>03-01-2018</td>\n",
       "      <td>1</td>\n",
       "      <td>0</td>\n",
       "      <td>1</td>\n",
       "      <td>0</td>\n",
       "      <td>1</td>\n",
       "      <td>1</td>\n",
       "      <td>1</td>\n",
       "      <td>8.050924</td>\n",
       "      <td>9.47025</td>\n",
       "      <td>43.7273</td>\n",
       "      <td>16.636703</td>\n",
       "      <td>120</td>\n",
       "      <td>1229</td>\n",
       "      <td>1349</td>\n",
       "    </tr>\n",
       "    <tr>\n",
       "      <th>3</th>\n",
       "      <td>4</td>\n",
       "      <td>04-01-2018</td>\n",
       "      <td>1</td>\n",
       "      <td>0</td>\n",
       "      <td>1</td>\n",
       "      <td>0</td>\n",
       "      <td>2</td>\n",
       "      <td>1</td>\n",
       "      <td>1</td>\n",
       "      <td>8.200000</td>\n",
       "      <td>10.60610</td>\n",
       "      <td>59.0435</td>\n",
       "      <td>10.739832</td>\n",
       "      <td>108</td>\n",
       "      <td>1454</td>\n",
       "      <td>1562</td>\n",
       "    </tr>\n",
       "    <tr>\n",
       "      <th>4</th>\n",
       "      <td>5</td>\n",
       "      <td>05-01-2018</td>\n",
       "      <td>1</td>\n",
       "      <td>0</td>\n",
       "      <td>1</td>\n",
       "      <td>0</td>\n",
       "      <td>3</td>\n",
       "      <td>1</td>\n",
       "      <td>1</td>\n",
       "      <td>9.305237</td>\n",
       "      <td>11.46350</td>\n",
       "      <td>43.6957</td>\n",
       "      <td>12.522300</td>\n",
       "      <td>82</td>\n",
       "      <td>1518</td>\n",
       "      <td>1600</td>\n",
       "    </tr>\n",
       "  </tbody>\n",
       "</table>\n",
       "</div>"
      ],
      "text/plain": [
       "   instant      dteday  season  yr  mnth  holiday  weekday  workingday  \\\n",
       "0        1  01-01-2018       1   0     1        0        6           0   \n",
       "1        2  02-01-2018       1   0     1        0        0           0   \n",
       "2        3  03-01-2018       1   0     1        0        1           1   \n",
       "3        4  04-01-2018       1   0     1        0        2           1   \n",
       "4        5  05-01-2018       1   0     1        0        3           1   \n",
       "\n",
       "   weathersit       temp     atemp      hum  windspeed  casual  registered  \\\n",
       "0           2  14.110847  18.18125  80.5833  10.749882     331         654   \n",
       "1           2  14.902598  17.68695  69.6087  16.652113     131         670   \n",
       "2           1   8.050924   9.47025  43.7273  16.636703     120        1229   \n",
       "3           1   8.200000  10.60610  59.0435  10.739832     108        1454   \n",
       "4           1   9.305237  11.46350  43.6957  12.522300      82        1518   \n",
       "\n",
       "    cnt  \n",
       "0   985  \n",
       "1   801  \n",
       "2  1349  \n",
       "3  1562  \n",
       "4  1600  "
      ]
     },
     "execution_count": 2,
     "metadata": {},
     "output_type": "execute_result"
    }
   ],
   "source": [
    "# Data Reading\n",
    "bike = pd.read_csv(\"day.csv\")\n",
    "bike.head()"
   ]
  },
  {
   "cell_type": "markdown",
   "id": "a98f2cdc",
   "metadata": {},
   "source": [
    "- Since the 'instant' variable acts like the index column, we should make it the index column."
   ]
  },
  {
   "cell_type": "code",
   "execution_count": 3,
   "id": "f04791f6",
   "metadata": {},
   "outputs": [
    {
     "data": {
      "text/html": [
       "<div>\n",
       "<style scoped>\n",
       "    .dataframe tbody tr th:only-of-type {\n",
       "        vertical-align: middle;\n",
       "    }\n",
       "\n",
       "    .dataframe tbody tr th {\n",
       "        vertical-align: top;\n",
       "    }\n",
       "\n",
       "    .dataframe thead th {\n",
       "        text-align: right;\n",
       "    }\n",
       "</style>\n",
       "<table border=\"1\" class=\"dataframe\">\n",
       "  <thead>\n",
       "    <tr style=\"text-align: right;\">\n",
       "      <th></th>\n",
       "      <th>dteday</th>\n",
       "      <th>season</th>\n",
       "      <th>yr</th>\n",
       "      <th>mnth</th>\n",
       "      <th>holiday</th>\n",
       "      <th>weekday</th>\n",
       "      <th>workingday</th>\n",
       "      <th>weathersit</th>\n",
       "      <th>temp</th>\n",
       "      <th>atemp</th>\n",
       "      <th>hum</th>\n",
       "      <th>windspeed</th>\n",
       "      <th>casual</th>\n",
       "      <th>registered</th>\n",
       "      <th>cnt</th>\n",
       "    </tr>\n",
       "    <tr>\n",
       "      <th>instant</th>\n",
       "      <th></th>\n",
       "      <th></th>\n",
       "      <th></th>\n",
       "      <th></th>\n",
       "      <th></th>\n",
       "      <th></th>\n",
       "      <th></th>\n",
       "      <th></th>\n",
       "      <th></th>\n",
       "      <th></th>\n",
       "      <th></th>\n",
       "      <th></th>\n",
       "      <th></th>\n",
       "      <th></th>\n",
       "      <th></th>\n",
       "    </tr>\n",
       "  </thead>\n",
       "  <tbody>\n",
       "    <tr>\n",
       "      <th>1</th>\n",
       "      <td>01-01-2018</td>\n",
       "      <td>1</td>\n",
       "      <td>0</td>\n",
       "      <td>1</td>\n",
       "      <td>0</td>\n",
       "      <td>6</td>\n",
       "      <td>0</td>\n",
       "      <td>2</td>\n",
       "      <td>14.110847</td>\n",
       "      <td>18.18125</td>\n",
       "      <td>80.5833</td>\n",
       "      <td>10.749882</td>\n",
       "      <td>331</td>\n",
       "      <td>654</td>\n",
       "      <td>985</td>\n",
       "    </tr>\n",
       "    <tr>\n",
       "      <th>2</th>\n",
       "      <td>02-01-2018</td>\n",
       "      <td>1</td>\n",
       "      <td>0</td>\n",
       "      <td>1</td>\n",
       "      <td>0</td>\n",
       "      <td>0</td>\n",
       "      <td>0</td>\n",
       "      <td>2</td>\n",
       "      <td>14.902598</td>\n",
       "      <td>17.68695</td>\n",
       "      <td>69.6087</td>\n",
       "      <td>16.652113</td>\n",
       "      <td>131</td>\n",
       "      <td>670</td>\n",
       "      <td>801</td>\n",
       "    </tr>\n",
       "    <tr>\n",
       "      <th>3</th>\n",
       "      <td>03-01-2018</td>\n",
       "      <td>1</td>\n",
       "      <td>0</td>\n",
       "      <td>1</td>\n",
       "      <td>0</td>\n",
       "      <td>1</td>\n",
       "      <td>1</td>\n",
       "      <td>1</td>\n",
       "      <td>8.050924</td>\n",
       "      <td>9.47025</td>\n",
       "      <td>43.7273</td>\n",
       "      <td>16.636703</td>\n",
       "      <td>120</td>\n",
       "      <td>1229</td>\n",
       "      <td>1349</td>\n",
       "    </tr>\n",
       "    <tr>\n",
       "      <th>4</th>\n",
       "      <td>04-01-2018</td>\n",
       "      <td>1</td>\n",
       "      <td>0</td>\n",
       "      <td>1</td>\n",
       "      <td>0</td>\n",
       "      <td>2</td>\n",
       "      <td>1</td>\n",
       "      <td>1</td>\n",
       "      <td>8.200000</td>\n",
       "      <td>10.60610</td>\n",
       "      <td>59.0435</td>\n",
       "      <td>10.739832</td>\n",
       "      <td>108</td>\n",
       "      <td>1454</td>\n",
       "      <td>1562</td>\n",
       "    </tr>\n",
       "    <tr>\n",
       "      <th>5</th>\n",
       "      <td>05-01-2018</td>\n",
       "      <td>1</td>\n",
       "      <td>0</td>\n",
       "      <td>1</td>\n",
       "      <td>0</td>\n",
       "      <td>3</td>\n",
       "      <td>1</td>\n",
       "      <td>1</td>\n",
       "      <td>9.305237</td>\n",
       "      <td>11.46350</td>\n",
       "      <td>43.6957</td>\n",
       "      <td>12.522300</td>\n",
       "      <td>82</td>\n",
       "      <td>1518</td>\n",
       "      <td>1600</td>\n",
       "    </tr>\n",
       "  </tbody>\n",
       "</table>\n",
       "</div>"
      ],
      "text/plain": [
       "             dteday  season  yr  mnth  holiday  weekday  workingday  \\\n",
       "instant                                                               \n",
       "1        01-01-2018       1   0     1        0        6           0   \n",
       "2        02-01-2018       1   0     1        0        0           0   \n",
       "3        03-01-2018       1   0     1        0        1           1   \n",
       "4        04-01-2018       1   0     1        0        2           1   \n",
       "5        05-01-2018       1   0     1        0        3           1   \n",
       "\n",
       "         weathersit       temp     atemp      hum  windspeed  casual  \\\n",
       "instant                                                                \n",
       "1                 2  14.110847  18.18125  80.5833  10.749882     331   \n",
       "2                 2  14.902598  17.68695  69.6087  16.652113     131   \n",
       "3                 1   8.050924   9.47025  43.7273  16.636703     120   \n",
       "4                 1   8.200000  10.60610  59.0435  10.739832     108   \n",
       "5                 1   9.305237  11.46350  43.6957  12.522300      82   \n",
       "\n",
       "         registered   cnt  \n",
       "instant                    \n",
       "1               654   985  \n",
       "2               670   801  \n",
       "3              1229  1349  \n",
       "4              1454  1562  \n",
       "5              1518  1600  "
      ]
     },
     "execution_count": 3,
     "metadata": {},
     "output_type": "execute_result"
    }
   ],
   "source": [
    "# Change the index column\n",
    "bike = bike.set_index('instant')\n",
    "bike.head()"
   ]
  },
  {
   "cell_type": "code",
   "execution_count": 4,
   "id": "78a2fa25",
   "metadata": {},
   "outputs": [
    {
     "data": {
      "text/plain": [
       "(730, 15)"
      ]
     },
     "execution_count": 4,
     "metadata": {},
     "output_type": "execute_result"
    }
   ],
   "source": [
    "# Data shape\n",
    "bike.shape"
   ]
  },
  {
   "cell_type": "code",
   "execution_count": 5,
   "id": "7a3f144d",
   "metadata": {},
   "outputs": [
    {
     "data": {
      "text/plain": [
       "dteday         object\n",
       "season          int64\n",
       "yr              int64\n",
       "mnth            int64\n",
       "holiday         int64\n",
       "weekday         int64\n",
       "workingday      int64\n",
       "weathersit      int64\n",
       "temp          float64\n",
       "atemp         float64\n",
       "hum           float64\n",
       "windspeed     float64\n",
       "casual          int64\n",
       "registered      int64\n",
       "cnt             int64\n",
       "dtype: object"
      ]
     },
     "execution_count": 5,
     "metadata": {},
     "output_type": "execute_result"
    }
   ],
   "source": [
    "# Data types\n",
    "bike.dtypes"
   ]
  },
  {
   "cell_type": "code",
   "execution_count": 6,
   "id": "87c7bc14",
   "metadata": {},
   "outputs": [
    {
     "data": {
      "text/html": [
       "<div>\n",
       "<style scoped>\n",
       "    .dataframe tbody tr th:only-of-type {\n",
       "        vertical-align: middle;\n",
       "    }\n",
       "\n",
       "    .dataframe tbody tr th {\n",
       "        vertical-align: top;\n",
       "    }\n",
       "\n",
       "    .dataframe thead th {\n",
       "        text-align: right;\n",
       "    }\n",
       "</style>\n",
       "<table border=\"1\" class=\"dataframe\">\n",
       "  <thead>\n",
       "    <tr style=\"text-align: right;\">\n",
       "      <th></th>\n",
       "      <th>season</th>\n",
       "      <th>yr</th>\n",
       "      <th>mnth</th>\n",
       "      <th>holiday</th>\n",
       "      <th>weekday</th>\n",
       "      <th>workingday</th>\n",
       "      <th>weathersit</th>\n",
       "      <th>temp</th>\n",
       "      <th>atemp</th>\n",
       "      <th>hum</th>\n",
       "      <th>windspeed</th>\n",
       "      <th>casual</th>\n",
       "      <th>registered</th>\n",
       "      <th>cnt</th>\n",
       "    </tr>\n",
       "  </thead>\n",
       "  <tbody>\n",
       "    <tr>\n",
       "      <th>count</th>\n",
       "      <td>730.000000</td>\n",
       "      <td>730.000000</td>\n",
       "      <td>730.000000</td>\n",
       "      <td>730.000000</td>\n",
       "      <td>730.000000</td>\n",
       "      <td>730.000000</td>\n",
       "      <td>730.000000</td>\n",
       "      <td>730.000000</td>\n",
       "      <td>730.000000</td>\n",
       "      <td>730.000000</td>\n",
       "      <td>730.000000</td>\n",
       "      <td>730.000000</td>\n",
       "      <td>730.000000</td>\n",
       "      <td>730.000000</td>\n",
       "    </tr>\n",
       "    <tr>\n",
       "      <th>mean</th>\n",
       "      <td>2.498630</td>\n",
       "      <td>0.500000</td>\n",
       "      <td>6.526027</td>\n",
       "      <td>0.028767</td>\n",
       "      <td>2.997260</td>\n",
       "      <td>0.683562</td>\n",
       "      <td>1.394521</td>\n",
       "      <td>20.319259</td>\n",
       "      <td>23.726322</td>\n",
       "      <td>62.765175</td>\n",
       "      <td>12.763620</td>\n",
       "      <td>849.249315</td>\n",
       "      <td>3658.757534</td>\n",
       "      <td>4508.006849</td>\n",
       "    </tr>\n",
       "    <tr>\n",
       "      <th>std</th>\n",
       "      <td>1.110184</td>\n",
       "      <td>0.500343</td>\n",
       "      <td>3.450215</td>\n",
       "      <td>0.167266</td>\n",
       "      <td>2.006161</td>\n",
       "      <td>0.465405</td>\n",
       "      <td>0.544807</td>\n",
       "      <td>7.506729</td>\n",
       "      <td>8.150308</td>\n",
       "      <td>14.237589</td>\n",
       "      <td>5.195841</td>\n",
       "      <td>686.479875</td>\n",
       "      <td>1559.758728</td>\n",
       "      <td>1936.011647</td>\n",
       "    </tr>\n",
       "    <tr>\n",
       "      <th>min</th>\n",
       "      <td>1.000000</td>\n",
       "      <td>0.000000</td>\n",
       "      <td>1.000000</td>\n",
       "      <td>0.000000</td>\n",
       "      <td>0.000000</td>\n",
       "      <td>0.000000</td>\n",
       "      <td>1.000000</td>\n",
       "      <td>2.424346</td>\n",
       "      <td>3.953480</td>\n",
       "      <td>0.000000</td>\n",
       "      <td>1.500244</td>\n",
       "      <td>2.000000</td>\n",
       "      <td>20.000000</td>\n",
       "      <td>22.000000</td>\n",
       "    </tr>\n",
       "    <tr>\n",
       "      <th>25%</th>\n",
       "      <td>2.000000</td>\n",
       "      <td>0.000000</td>\n",
       "      <td>4.000000</td>\n",
       "      <td>0.000000</td>\n",
       "      <td>1.000000</td>\n",
       "      <td>0.000000</td>\n",
       "      <td>1.000000</td>\n",
       "      <td>13.811885</td>\n",
       "      <td>16.889713</td>\n",
       "      <td>52.000000</td>\n",
       "      <td>9.041650</td>\n",
       "      <td>316.250000</td>\n",
       "      <td>2502.250000</td>\n",
       "      <td>3169.750000</td>\n",
       "    </tr>\n",
       "    <tr>\n",
       "      <th>50%</th>\n",
       "      <td>3.000000</td>\n",
       "      <td>0.500000</td>\n",
       "      <td>7.000000</td>\n",
       "      <td>0.000000</td>\n",
       "      <td>3.000000</td>\n",
       "      <td>1.000000</td>\n",
       "      <td>1.000000</td>\n",
       "      <td>20.465826</td>\n",
       "      <td>24.368225</td>\n",
       "      <td>62.625000</td>\n",
       "      <td>12.125325</td>\n",
       "      <td>717.000000</td>\n",
       "      <td>3664.500000</td>\n",
       "      <td>4548.500000</td>\n",
       "    </tr>\n",
       "    <tr>\n",
       "      <th>75%</th>\n",
       "      <td>3.000000</td>\n",
       "      <td>1.000000</td>\n",
       "      <td>10.000000</td>\n",
       "      <td>0.000000</td>\n",
       "      <td>5.000000</td>\n",
       "      <td>1.000000</td>\n",
       "      <td>2.000000</td>\n",
       "      <td>26.880615</td>\n",
       "      <td>30.445775</td>\n",
       "      <td>72.989575</td>\n",
       "      <td>15.625589</td>\n",
       "      <td>1096.500000</td>\n",
       "      <td>4783.250000</td>\n",
       "      <td>5966.000000</td>\n",
       "    </tr>\n",
       "    <tr>\n",
       "      <th>max</th>\n",
       "      <td>4.000000</td>\n",
       "      <td>1.000000</td>\n",
       "      <td>12.000000</td>\n",
       "      <td>1.000000</td>\n",
       "      <td>6.000000</td>\n",
       "      <td>1.000000</td>\n",
       "      <td>3.000000</td>\n",
       "      <td>35.328347</td>\n",
       "      <td>42.044800</td>\n",
       "      <td>97.250000</td>\n",
       "      <td>34.000021</td>\n",
       "      <td>3410.000000</td>\n",
       "      <td>6946.000000</td>\n",
       "      <td>8714.000000</td>\n",
       "    </tr>\n",
       "  </tbody>\n",
       "</table>\n",
       "</div>"
      ],
      "text/plain": [
       "           season          yr        mnth     holiday     weekday  workingday  \\\n",
       "count  730.000000  730.000000  730.000000  730.000000  730.000000  730.000000   \n",
       "mean     2.498630    0.500000    6.526027    0.028767    2.997260    0.683562   \n",
       "std      1.110184    0.500343    3.450215    0.167266    2.006161    0.465405   \n",
       "min      1.000000    0.000000    1.000000    0.000000    0.000000    0.000000   \n",
       "25%      2.000000    0.000000    4.000000    0.000000    1.000000    0.000000   \n",
       "50%      3.000000    0.500000    7.000000    0.000000    3.000000    1.000000   \n",
       "75%      3.000000    1.000000   10.000000    0.000000    5.000000    1.000000   \n",
       "max      4.000000    1.000000   12.000000    1.000000    6.000000    1.000000   \n",
       "\n",
       "       weathersit        temp       atemp         hum   windspeed  \\\n",
       "count  730.000000  730.000000  730.000000  730.000000  730.000000   \n",
       "mean     1.394521   20.319259   23.726322   62.765175   12.763620   \n",
       "std      0.544807    7.506729    8.150308   14.237589    5.195841   \n",
       "min      1.000000    2.424346    3.953480    0.000000    1.500244   \n",
       "25%      1.000000   13.811885   16.889713   52.000000    9.041650   \n",
       "50%      1.000000   20.465826   24.368225   62.625000   12.125325   \n",
       "75%      2.000000   26.880615   30.445775   72.989575   15.625589   \n",
       "max      3.000000   35.328347   42.044800   97.250000   34.000021   \n",
       "\n",
       "            casual   registered          cnt  \n",
       "count   730.000000   730.000000   730.000000  \n",
       "mean    849.249315  3658.757534  4508.006849  \n",
       "std     686.479875  1559.758728  1936.011647  \n",
       "min       2.000000    20.000000    22.000000  \n",
       "25%     316.250000  2502.250000  3169.750000  \n",
       "50%     717.000000  3664.500000  4548.500000  \n",
       "75%    1096.500000  4783.250000  5966.000000  \n",
       "max    3410.000000  6946.000000  8714.000000  "
      ]
     },
     "execution_count": 6,
     "metadata": {},
     "output_type": "execute_result"
    }
   ],
   "source": [
    "# Data description\n",
    "bike.describe()"
   ]
  },
  {
   "cell_type": "markdown",
   "id": "c37d1dac",
   "metadata": {},
   "source": [
    "### Step 2: Data Quality Checking"
   ]
  },
  {
   "cell_type": "markdown",
   "id": "d81bc53b",
   "metadata": {},
   "source": [
    "#### Step 2.1: Null-value Checking"
   ]
  },
  {
   "cell_type": "code",
   "execution_count": 7,
   "id": "c7b8efe3",
   "metadata": {},
   "outputs": [
    {
     "data": {
      "text/plain": [
       "dteday        0\n",
       "season        0\n",
       "yr            0\n",
       "mnth          0\n",
       "holiday       0\n",
       "weekday       0\n",
       "workingday    0\n",
       "weathersit    0\n",
       "temp          0\n",
       "atemp         0\n",
       "hum           0\n",
       "windspeed     0\n",
       "casual        0\n",
       "registered    0\n",
       "cnt           0\n",
       "dtype: int64"
      ]
     },
     "execution_count": 7,
     "metadata": {},
     "output_type": "execute_result"
    }
   ],
   "source": [
    "# Null-valued column check\n",
    "bike.isnull().sum()"
   ]
  },
  {
   "cell_type": "markdown",
   "id": "da35025b",
   "metadata": {},
   "source": [
    "- There is no null-valued columns."
   ]
  },
  {
   "cell_type": "markdown",
   "id": "7c58240c",
   "metadata": {},
   "source": [
    "#### Step 2.2: Variable Deletion"
   ]
  },
  {
   "cell_type": "markdown",
   "id": "33ca7175",
   "metadata": {},
   "source": [
    "- The following columns are deleted for the reasons stated below.\n",
    "    - 'dteday': This business variable does not have any significant impact on the prediction of bike bookings.\n",
    "    - 'casual' and 'registered': These two variables are irrelevant for a comprehensive analysis of the business because they are essentially counts of particular types of service users."
   ]
  },
  {
   "cell_type": "code",
   "execution_count": 8,
   "id": "c5ad80f8",
   "metadata": {},
   "outputs": [],
   "source": [
    "bike = bike.drop(['dteday', 'casual', 'registered'], axis = 1)"
   ]
  },
  {
   "cell_type": "markdown",
   "id": "d56dabff",
   "metadata": {},
   "source": [
    "#### Step 2.3: Data Consistency Checking"
   ]
  },
  {
   "cell_type": "code",
   "execution_count": 9,
   "id": "d632aa31",
   "metadata": {},
   "outputs": [
    {
     "data": {
      "text/plain": [
       "array([ 1,  2,  3,  4,  5,  6,  7,  8,  9, 10, 11, 12], dtype=int64)"
      ]
     },
     "execution_count": 9,
     "metadata": {},
     "output_type": "execute_result"
    }
   ],
   "source": [
    "# Check the 'day' column\n",
    "bike['mnth'].unique()"
   ]
  },
  {
   "cell_type": "markdown",
   "id": "698732e5",
   "metadata": {},
   "source": [
    "- All the values are between 1 and 12, so no modification is required for the 'mnth' column."
   ]
  },
  {
   "cell_type": "markdown",
   "id": "a994a147",
   "metadata": {},
   "source": [
    "- Since some values in the 'hum' column are equal to 0 (which is absurd in reality), those should be replaced by this column's mean value."
   ]
  },
  {
   "cell_type": "code",
   "execution_count": 10,
   "id": "b56d3577",
   "metadata": {},
   "outputs": [
    {
     "data": {
      "text/html": [
       "<div>\n",
       "<style scoped>\n",
       "    .dataframe tbody tr th:only-of-type {\n",
       "        vertical-align: middle;\n",
       "    }\n",
       "\n",
       "    .dataframe tbody tr th {\n",
       "        vertical-align: top;\n",
       "    }\n",
       "\n",
       "    .dataframe thead th {\n",
       "        text-align: right;\n",
       "    }\n",
       "</style>\n",
       "<table border=\"1\" class=\"dataframe\">\n",
       "  <thead>\n",
       "    <tr style=\"text-align: right;\">\n",
       "      <th></th>\n",
       "      <th>season</th>\n",
       "      <th>yr</th>\n",
       "      <th>mnth</th>\n",
       "      <th>holiday</th>\n",
       "      <th>weekday</th>\n",
       "      <th>workingday</th>\n",
       "      <th>weathersit</th>\n",
       "      <th>temp</th>\n",
       "      <th>atemp</th>\n",
       "      <th>hum</th>\n",
       "      <th>windspeed</th>\n",
       "      <th>cnt</th>\n",
       "    </tr>\n",
       "    <tr>\n",
       "      <th>instant</th>\n",
       "      <th></th>\n",
       "      <th></th>\n",
       "      <th></th>\n",
       "      <th></th>\n",
       "      <th></th>\n",
       "      <th></th>\n",
       "      <th></th>\n",
       "      <th></th>\n",
       "      <th></th>\n",
       "      <th></th>\n",
       "      <th></th>\n",
       "      <th></th>\n",
       "    </tr>\n",
       "  </thead>\n",
       "  <tbody>\n",
       "    <tr>\n",
       "      <th>69</th>\n",
       "      <td>1</td>\n",
       "      <td>0</td>\n",
       "      <td>3</td>\n",
       "      <td>0</td>\n",
       "      <td>4</td>\n",
       "      <td>1</td>\n",
       "      <td>3</td>\n",
       "      <td>15.952731</td>\n",
       "      <td>19.2834</td>\n",
       "      <td>0.0</td>\n",
       "      <td>17.545759</td>\n",
       "      <td>623</td>\n",
       "    </tr>\n",
       "  </tbody>\n",
       "</table>\n",
       "</div>"
      ],
      "text/plain": [
       "         season  yr  mnth  holiday  weekday  workingday  weathersit  \\\n",
       "instant                                                               \n",
       "69            1   0     3        0        4           1           3   \n",
       "\n",
       "              temp    atemp  hum  windspeed  cnt  \n",
       "instant                                           \n",
       "69       15.952731  19.2834  0.0  17.545759  623  "
      ]
     },
     "execution_count": 10,
     "metadata": {},
     "output_type": "execute_result"
    }
   ],
   "source": [
    "# Detect the 0 valued column\n",
    "bike[bike['hum'] == 0]"
   ]
  },
  {
   "cell_type": "code",
   "execution_count": 11,
   "id": "6c8e2fa3",
   "metadata": {},
   "outputs": [],
   "source": [
    "# Replace the 0 value with the column's mean value\n",
    "bike['hum'][69] = bike['hum'].mean()"
   ]
  },
  {
   "cell_type": "code",
   "execution_count": 12,
   "id": "fa1760bc",
   "metadata": {},
   "outputs": [
    {
     "data": {
      "text/plain": [
       "(730, 12)"
      ]
     },
     "execution_count": 12,
     "metadata": {},
     "output_type": "execute_result"
    }
   ],
   "source": [
    "# Check the shape of remainder dataframe.\n",
    "bike.shape"
   ]
  },
  {
   "cell_type": "markdown",
   "id": "ccb04742",
   "metadata": {},
   "source": [
    "### Step 3: Exploratory Data Analysis (EDA)"
   ]
  },
  {
   "cell_type": "markdown",
   "id": "dc6f36ca",
   "metadata": {},
   "source": [
    "#### Step 3.1: Categorical Data Analysis"
   ]
  },
  {
   "cell_type": "code",
   "execution_count": 13,
   "id": "979c52ab",
   "metadata": {},
   "outputs": [],
   "source": [
    "# Ride Count vs. Season\n",
    "bike['season'] = bike['season'].map({1: 'spring', 2: 'summer', 3: 'fall', 4: 'winter'})"
   ]
  },
  {
   "cell_type": "code",
   "execution_count": 14,
   "id": "dfa97fd7",
   "metadata": {},
   "outputs": [
    {
     "data": {
      "image/png": "[encoded data removed]",
      "text/plain": [
       "<Figure size 720x432 with 1 Axes>"
      ]
     },
     "metadata": {
      "needs_background": "light"
     },
     "output_type": "display_data"
    }
   ],
   "source": [
    "plt.figure(figsize = (10, 6))\n",
    "ax1 = sns.barplot(data = bike, y = 'season', x = 'cnt', palette = 'colorblind', errwidth = 0)\n",
    "ax1.set_ylabel('Season', fontsize = 20)\n",
    "ax1.set_xlabel('Total Ride Count', fontsize = 20)\n",
    "ax1.tick_params(labelsize = 20)\n",
    "plt.show()"
   ]
  },
  {
   "cell_type": "code",
   "execution_count": 15,
   "id": "78538c5e",
   "metadata": {},
   "outputs": [],
   "source": [
    "# Ride Count vs. Month\n",
    "bike['mnth'] = bike['mnth'].map({1: 'january', 2: 'february', 3: 'march', 4: 'april', 5: 'may', 6: 'june', 7: 'july', \n",
    "                                 8: 'august', 9: 'september', 10: 'october', 11: 'november', 12: 'december'})"
   ]
  },
  {
   "cell_type": "code",
   "execution_count": 16,
   "id": "99ad4ccc",
   "metadata": {},
   "outputs": [
    {
     "data": {
      "image/png": "[encoded data removed]",
      "text/plain": [
       "<Figure size 720x432 with 1 Axes>"
      ]
     },
     "metadata": {
      "needs_background": "light"
     },
     "output_type": "display_data"
    }
   ],
   "source": [
    "plt.figure(figsize = (10, 6))\n",
    "ax2 = sns.barplot(data = bike, y = 'mnth', x = 'cnt', palette = 'colorblind', errwidth = 0)\n",
    "ax2.set_ylabel('Month', fontsize = 20)\n",
    "ax2.set_xlabel('Total Ride Count', fontsize = 20)\n",
    "ax2.tick_params(labelsize = 20)\n",
    "plt.show()"
   ]
  },
  {
   "cell_type": "code",
   "execution_count": 17,
   "id": "2a00103a",
   "metadata": {},
   "outputs": [],
   "source": [
    "# Ride Count vs. Weekday \n",
    "bike['weekday'] = bike['weekday'].map({0: 'sunday', 1: 'monday', 2: 'tuesday', 3: 'wednesday', 4: 'thursday', 5: 'friday', \n",
    "                                       6: 'saturday'})"
   ]
  },
  {
   "cell_type": "code",
   "execution_count": 18,
   "id": "39615a88",
   "metadata": {},
   "outputs": [
    {
     "data": {
      "image/png": "[encoded data removed]",
      "text/plain": [
       "<Figure size 720x432 with 1 Axes>"
      ]
     },
     "metadata": {
      "needs_background": "light"
     },
     "output_type": "display_data"
    }
   ],
   "source": [
    "plt.figure(figsize = (10, 6))\n",
    "ax3 = sns.barplot(data = bike, y = 'weekday', x = 'cnt', palette = 'colorblind', errwidth = 0)\n",
    "ax3.set_ylabel('Weekday', fontsize = 20)\n",
    "ax3.set_xlabel('Total Ride Count', fontsize = 20)\n",
    "ax3.tick_params(labelsize = 20)\n",
    "plt.show()"
   ]
  },
  {
   "cell_type": "code",
   "execution_count": 19,
   "id": "37ec5938",
   "metadata": {},
   "outputs": [],
   "source": [
    "# Ride Count vs. Weather Status\n",
    "bike['weathersit'] = bike['weathersit'].map({1: 'clear', 2: 'mist', 3: 'light', 4: 'heavy'})"
   ]
  },
  {
   "cell_type": "code",
   "execution_count": 20,
   "id": "2de128e5",
   "metadata": {},
   "outputs": [
    {
     "data": {
      "image/png": "[encoded data removed]",
      "text/plain": [
       "<Figure size 720x432 with 1 Axes>"
      ]
     },
     "metadata": {
      "needs_background": "light"
     },
     "output_type": "display_data"
    }
   ],
   "source": [
    "plt.figure(figsize = (10, 6))\n",
    "ax4 = sns.barplot(data = bike, y = 'weathersit', x = 'cnt', palette = 'colorblind', errwidth = 0)\n",
    "ax4.set_ylabel('Weather Status', fontsize = 20)\n",
    "ax4.set_xlabel('Total Ride Count', fontsize = 20)\n",
    "ax4.tick_params(labelsize = 20)\n",
    "plt.show()"
   ]
  },
  {
   "cell_type": "code",
   "execution_count": 21,
   "id": "3dc92a43",
   "metadata": {},
   "outputs": [],
   "source": [
    "# Ride Count vs. Year\n",
    "bike['yr'] = bike['yr'].map({0: '2018', 1: '2019'})"
   ]
  },
  {
   "cell_type": "code",
   "execution_count": 22,
   "id": "409b3ac2",
   "metadata": {},
   "outputs": [
    {
     "data": {
      "image/png": "[encoded data removed]",
      "text/plain": [
       "<Figure size 720x432 with 1 Axes>"
      ]
     },
     "metadata": {
      "needs_background": "light"
     },
     "output_type": "display_data"
    }
   ],
   "source": [
    "plt.figure(figsize = (10, 6))\n",
    "ax5 = sns.barplot(data = bike, y = 'yr', x = 'cnt', palette = 'colorblind', errwidth = 0)\n",
    "ax5.set_ylabel('Year', fontsize = 20)\n",
    "ax5.set_xlabel('Total Ride Count', fontsize = 20)\n",
    "ax5.tick_params(labelsize = 20)\n",
    "plt.show()"
   ]
  },
  {
   "cell_type": "code",
   "execution_count": 23,
   "id": "c50a31c5",
   "metadata": {},
   "outputs": [],
   "source": [
    "# Ride Count vs. Holiday\n",
    "bike['holiday'] = bike['holiday'].map({0: 'no', 1: 'yes'})"
   ]
  },
  {
   "cell_type": "code",
   "execution_count": 24,
   "id": "932f86fa",
   "metadata": {},
   "outputs": [
    {
     "data": {
      "image/png": "[encoded data removed]",
      "text/plain": [
       "<Figure size 720x432 with 1 Axes>"
      ]
     },
     "metadata": {
      "needs_background": "light"
     },
     "output_type": "display_data"
    }
   ],
   "source": [
    "plt.figure(figsize = (10, 6))\n",
    "ax6 = sns.barplot(data = bike, y = 'holiday', x = 'cnt', palette = 'colorblind', errwidth = 0)\n",
    "ax6.set_ylabel('Holiday', fontsize = 20)\n",
    "ax6.set_xlabel('Total Ride Count', fontsize = 20)\n",
    "ax6.tick_params(labelsize = 20)\n",
    "plt.show()"
   ]
  },
  {
   "cell_type": "code",
   "execution_count": 25,
   "id": "7af3486c",
   "metadata": {},
   "outputs": [],
   "source": [
    "# Ride Count vs. Working Day\n",
    "bike['workingday'] = bike['workingday'].map({0: 'no', 1: 'yes'})"
   ]
  },
  {
   "cell_type": "code",
   "execution_count": 26,
   "id": "6d07cdd7",
   "metadata": {},
   "outputs": [
    {
     "data": {
      "image/png": "[encoded data removed]",
      "text/plain": [
       "<Figure size 720x432 with 1 Axes>"
      ]
     },
     "metadata": {
      "needs_background": "light"
     },
     "output_type": "display_data"
    }
   ],
   "source": [
    "plt.figure(figsize = (10, 6))\n",
    "ax7 = sns.barplot(data = bike, y = 'workingday', x = 'cnt', palette = 'colorblind', errwidth = 0)\n",
    "ax7.set_ylabel('Working Day', fontsize = 20)\n",
    "ax7.set_xlabel('Total Ride Count', fontsize = 20)\n",
    "ax7.tick_params(labelsize = 20)\n",
    "plt.show()"
   ]
  },
  {
   "cell_type": "markdown",
   "id": "8346ac8e",
   "metadata": {},
   "source": [
    "#### Step 3.2: Segmented Data Analysis"
   ]
  },
  {
   "cell_type": "code",
   "execution_count": 27,
   "id": "cbc9432f",
   "metadata": {},
   "outputs": [],
   "source": [
    "# Ride Count vs. Temperature\n",
    "bike['temp_bin'] = pd.cut(bike['temp'], bins = 10, precision = 0)"
   ]
  },
  {
   "cell_type": "code",
   "execution_count": 28,
   "id": "6cd41ac9",
   "metadata": {},
   "outputs": [
    {
     "data": {
      "image/png": "[encoded data removed]",
      "text/plain": [
       "<Figure size 720x432 with 1 Axes>"
      ]
     },
     "metadata": {
      "needs_background": "light"
     },
     "output_type": "display_data"
    }
   ],
   "source": [
    "plt.figure(figsize = (10, 6))\n",
    "ax8 = sns.barplot(data = bike, y = 'temp_bin', x = 'cnt', palette = 'colorblind', errwidth = 0)\n",
    "ax8.set_ylabel('Temperature (Celsius)', fontsize = 20)\n",
    "ax8.set_xlabel('Total Ride Count', fontsize = 20)\n",
    "ax8.tick_params(labelsize = 20)\n",
    "plt.show()"
   ]
  },
  {
   "cell_type": "code",
   "execution_count": 29,
   "id": "ec0c19c7",
   "metadata": {},
   "outputs": [],
   "source": [
    "# Ride Count vs. Feeling Temperature \n",
    "bike['atemp_bin'] = pd.cut(bike['atemp'], bins = 10, precision = 0)"
   ]
  },
  {
   "cell_type": "code",
   "execution_count": 30,
   "id": "30bc16f8",
   "metadata": {},
   "outputs": [
    {
     "data": {
      "image/png": "[encoded data removed]",
      "text/plain": [
       "<Figure size 720x432 with 1 Axes>"
      ]
     },
     "metadata": {
      "needs_background": "light"
     },
     "output_type": "display_data"
    }
   ],
   "source": [
    "plt.figure(figsize = (10, 6))\n",
    "ax9 = sns.barplot(data = bike, y = 'atemp_bin', x = 'cnt', palette = 'colorblind', errwidth = 0)\n",
    "ax9.set_ylabel('Feeling Temperature (Celsius)', fontsize = 20)\n",
    "ax9.set_xlabel('Total Ride Count', fontsize = 20)\n",
    "ax9.tick_params(labelsize = 20)\n",
    "plt.show()"
   ]
  },
  {
   "cell_type": "code",
   "execution_count": 31,
   "id": "bc64741e",
   "metadata": {},
   "outputs": [],
   "source": [
    "# Ride Count vs. Humidity\n",
    "bike['hum_bin'] = pd.cut(bike['hum'], bins = 10, precision = 0)"
   ]
  },
  {
   "cell_type": "code",
   "execution_count": 32,
   "id": "75067937",
   "metadata": {},
   "outputs": [
    {
     "data": {
      "image/png": "[encoded data removed]",
      "text/plain": [
       "<Figure size 720x432 with 1 Axes>"
      ]
     },
     "metadata": {
      "needs_background": "light"
     },
     "output_type": "display_data"
    }
   ],
   "source": [
    "plt.figure(figsize = (10, 6))\n",
    "ax10 = sns.barplot(data = bike, y = 'hum_bin', x = 'cnt', palette = 'colorblind', errwidth = 0)\n",
    "ax10.set_ylabel('Humidity', fontsize = 20)\n",
    "ax10.set_xlabel('Total Ride Count', fontsize = 20)\n",
    "ax10.tick_params(labelsize = 20)\n",
    "plt.show()"
   ]
  },
  {
   "cell_type": "code",
   "execution_count": 33,
   "id": "f480d854",
   "metadata": {},
   "outputs": [],
   "source": [
    "# Ride Count vs. Wind Speed\n",
    "bike['windspeed_bin'] = pd.cut(bike['windspeed'], bins = 10, precision = 0)"
   ]
  },
  {
   "cell_type": "code",
   "execution_count": 34,
   "id": "1b4ccf26",
   "metadata": {},
   "outputs": [
    {
     "data": {
      "image/png": "[encoded data removed]",
      "text/plain": [
       "<Figure size 720x432 with 1 Axes>"
      ]
     },
     "metadata": {
      "needs_background": "light"
     },
     "output_type": "display_data"
    }
   ],
   "source": [
    "plt.figure(figsize = (10, 6))\n",
    "ax8 = sns.barplot(data = bike, y = 'windspeed_bin', x = 'cnt', palette = 'colorblind', errwidth = 0)\n",
    "ax8.set_ylabel('Wind Speed', fontsize = 20)\n",
    "ax8.set_xlabel('Total Ride Count', fontsize = 20)\n",
    "ax8.tick_params(labelsize = 20)\n",
    "plt.show()"
   ]
  },
  {
   "cell_type": "markdown",
   "id": "d2e5a3a4",
   "metadata": {},
   "source": [
    "### Observations as per the Exploratory Data Analysis (EDA)\n",
    "- The number of bookings is highest in the `fall` season.\n",
    "- The month of `June` has the highest number of bookings.\n",
    "- The majority of bookings are on `Friday`.\n",
    "- The number of bookings is highest in the `clear (or few clouds or partly cloudy)` weather.\n",
    "- The number of bookings is highest in the year `2019`.\n",
    "- The number of bookings is greatest if it is not a `holiday`.\n",
    "- The number of bookings is greatest if it is a `working day`.\n",
    "- The most bookings are made when the `temperature` is between 22.0 and 25.0 degrees Celsius.\n",
    "- The most bookings are made when the `feeling temperature` is between 27.0 and 31.0 degrees Celsius.\n",
    "- The most bookings are made when the `humidity` is between 66.0 and 74.0 units.\n",
    "- The most bookings are made when the `wind speed` is between 5.0 and 8.0 units. "
   ]
  },
  {
   "cell_type": "markdown",
   "id": "a185f899",
   "metadata": {},
   "source": [
    "### Step 4: Model Preparation"
   ]
  },
  {
   "cell_type": "markdown",
   "id": "e727b59a",
   "metadata": {},
   "source": [
    "#### Step 4.1: Continous Variable Handeling"
   ]
  },
  {
   "cell_type": "code",
   "execution_count": 35,
   "id": "37f10149",
   "metadata": {},
   "outputs": [],
   "source": [
    "# List of continuous variables\n",
    "cont_columns = ['temp', 'atemp', 'hum', 'windspeed', 'cnt']"
   ]
  },
  {
   "cell_type": "code",
   "execution_count": 36,
   "id": "9c4c666b",
   "metadata": {},
   "outputs": [
    {
     "data": {
      "image/png": "[encoded data removed]",
      "text/plain": [
       "<Figure size 720x432 with 2 Axes>"
      ]
     },
     "metadata": {
      "needs_background": "light"
     },
     "output_type": "display_data"
    }
   ],
   "source": [
    "# Check correlations between continuous variables\n",
    "plt.figure(figsize = (10, 6))\n",
    "ax1 = sns.heatmap(bike[cont_columns].corr(), cmap = 'BuPu', annot = True)\n",
    "ax1.tick_params(labelsize = 15)\n",
    "plt.show()"
   ]
  },
  {
   "cell_type": "markdown",
   "id": "5b5640b0",
   "metadata": {},
   "source": [
    "- `temp` and `atemp` are highly correlated, so we drop the 'temp' variable in order to avoid multicollinearity in the model. Here, 'atemp' signifies the feeling temperature, which is more important for decision making than `temp`. That's why we keep `atemp` in the model."
   ]
  },
  {
   "cell_type": "code",
   "execution_count": 37,
   "id": "1e8f6729",
   "metadata": {},
   "outputs": [],
   "source": [
    "# Drop the 'temp' column\n",
    "bike = bike.drop('temp', axis = 1)"
   ]
  },
  {
   "cell_type": "code",
   "execution_count": 38,
   "id": "9e20cec5",
   "metadata": {},
   "outputs": [],
   "source": [
    "# Drop the irrelavant columns created during binning due to continous variables\n",
    "bike = bike.drop(['temp_bin', 'atemp_bin', 'hum_bin', 'windspeed_bin'], axis = 1)"
   ]
  },
  {
   "cell_type": "code",
   "execution_count": 39,
   "id": "3ec871ab",
   "metadata": {},
   "outputs": [
    {
     "data": {
      "text/plain": [
       "(730, 11)"
      ]
     },
     "execution_count": 39,
     "metadata": {},
     "output_type": "execute_result"
    }
   ],
   "source": [
    "# To check the shape of remaining dataframe\n",
    "bike.shape"
   ]
  },
  {
   "cell_type": "markdown",
   "id": "307281d7",
   "metadata": {},
   "source": [
    "#### Step 4.2: Categorical Variable Handeling"
   ]
  },
  {
   "cell_type": "code",
   "execution_count": 40,
   "id": "30c1ddeb",
   "metadata": {},
   "outputs": [],
   "source": [
    "# List of variables need to be converted to requisite dummy variables\n",
    "dummy_columns = ['mnth', 'season', 'weekday', 'weathersit']"
   ]
  },
  {
   "cell_type": "code",
   "execution_count": 41,
   "id": "2ca4809f",
   "metadata": {},
   "outputs": [],
   "source": [
    "# Dummy variable creation\n",
    "dummy = pd.get_dummies(bike[dummy_columns], drop_first = True)"
   ]
  },
  {
   "cell_type": "code",
   "execution_count": 42,
   "id": "d46d4ca5",
   "metadata": {},
   "outputs": [],
   "source": [
    "# Join dummy variables to the original dataframe\n",
    "bike = pd.concat([bike, dummy], axis = 1)"
   ]
  },
  {
   "cell_type": "code",
   "execution_count": 43,
   "id": "62075a46",
   "metadata": {},
   "outputs": [],
   "source": [
    "# Drop extra variables from the original dataframe\n",
    "bike = bike.drop(['mnth', 'season', 'weekday', 'weathersit'], axis = 1)"
   ]
  },
  {
   "cell_type": "code",
   "execution_count": 44,
   "id": "b3da4051",
   "metadata": {},
   "outputs": [
    {
     "data": {
      "text/plain": [
       "(730, 29)"
      ]
     },
     "execution_count": 44,
     "metadata": {},
     "output_type": "execute_result"
    }
   ],
   "source": [
    "# To check the shape of present dataframe\n",
    "bike.shape"
   ]
  },
  {
   "cell_type": "code",
   "execution_count": 45,
   "id": "ce0d8d75",
   "metadata": {},
   "outputs": [],
   "source": [
    "# Reverse transformation for binary categorical variables in order to use them for model making \n",
    "bike['yr'] = bike['yr'].map({'2019': 1, '2018': 0})\n",
    "bike['workingday'] = bike['workingday'].map({'yes': 1, 'no': 0})\n",
    "bike['holiday'] = bike['holiday'].map({'yes': 1, 'no': 0})"
   ]
  },
  {
   "cell_type": "markdown",
   "id": "9130d4b7",
   "metadata": {},
   "source": [
    "### Step 5: Model Building"
   ]
  },
  {
   "cell_type": "markdown",
   "id": "c2c60d18",
   "metadata": {},
   "source": [
    "#### Step 5.1: Test-Train Splitting"
   ]
  },
  {
   "cell_type": "code",
   "execution_count": 46,
   "id": "de3ff6f2",
   "metadata": {},
   "outputs": [],
   "source": [
    "df_train, df_test = train_test_split(bike, train_size = 0.7, random_state = 100)"
   ]
  },
  {
   "cell_type": "code",
   "execution_count": 47,
   "id": "19852f12",
   "metadata": {},
   "outputs": [
    {
     "name": "stdout",
     "output_type": "stream",
     "text": [
      "(510, 29)\n",
      "(220, 29)\n"
     ]
    }
   ],
   "source": [
    "# Check the test and train dataframes size\n",
    "print(df_train.shape)\n",
    "print(df_test.shape)"
   ]
  },
  {
   "cell_type": "markdown",
   "id": "91d75723",
   "metadata": {},
   "source": [
    "#### Step 5.2: Rescaling Features"
   ]
  },
  {
   "cell_type": "code",
   "execution_count": 48,
   "id": "ec75e499",
   "metadata": {},
   "outputs": [],
   "source": [
    "# Define rescaling object\n",
    "scaler = MinMaxScaler()"
   ]
  },
  {
   "cell_type": "code",
   "execution_count": 49,
   "id": "7a1cbcab",
   "metadata": {},
   "outputs": [],
   "source": [
    "# Apply scaling to all the columns except the 'yes-no (0/1)' and 'dummy' Variables\n",
    "num_vars = ['atemp', 'hum', 'windspeed', 'cnt']\n",
    "df_train[num_vars] = scaler.fit_transform(df_train[num_vars])"
   ]
  },
  {
   "cell_type": "code",
   "execution_count": 50,
   "id": "b40c70e0",
   "metadata": {},
   "outputs": [
    {
     "data": {
      "text/html": [
       "<div>\n",
       "<style scoped>\n",
       "    .dataframe tbody tr th:only-of-type {\n",
       "        vertical-align: middle;\n",
       "    }\n",
       "\n",
       "    .dataframe tbody tr th {\n",
       "        vertical-align: top;\n",
       "    }\n",
       "\n",
       "    .dataframe thead th {\n",
       "        text-align: right;\n",
       "    }\n",
       "</style>\n",
       "<table border=\"1\" class=\"dataframe\">\n",
       "  <thead>\n",
       "    <tr style=\"text-align: right;\">\n",
       "      <th></th>\n",
       "      <th>yr</th>\n",
       "      <th>holiday</th>\n",
       "      <th>workingday</th>\n",
       "      <th>atemp</th>\n",
       "      <th>hum</th>\n",
       "      <th>windspeed</th>\n",
       "      <th>cnt</th>\n",
       "      <th>mnth_august</th>\n",
       "      <th>mnth_december</th>\n",
       "      <th>mnth_february</th>\n",
       "      <th>...</th>\n",
       "      <th>season_summer</th>\n",
       "      <th>season_winter</th>\n",
       "      <th>weekday_monday</th>\n",
       "      <th>weekday_saturday</th>\n",
       "      <th>weekday_sunday</th>\n",
       "      <th>weekday_thursday</th>\n",
       "      <th>weekday_tuesday</th>\n",
       "      <th>weekday_wednesday</th>\n",
       "      <th>weathersit_light</th>\n",
       "      <th>weathersit_mist</th>\n",
       "    </tr>\n",
       "  </thead>\n",
       "  <tbody>\n",
       "    <tr>\n",
       "      <th>count</th>\n",
       "      <td>510.000000</td>\n",
       "      <td>510.000000</td>\n",
       "      <td>510.000000</td>\n",
       "      <td>510.000000</td>\n",
       "      <td>510.000000</td>\n",
       "      <td>510.000000</td>\n",
       "      <td>510.000000</td>\n",
       "      <td>510.000000</td>\n",
       "      <td>510.000000</td>\n",
       "      <td>510.000000</td>\n",
       "      <td>...</td>\n",
       "      <td>510.000000</td>\n",
       "      <td>510.000000</td>\n",
       "      <td>510.000000</td>\n",
       "      <td>510.000000</td>\n",
       "      <td>510.000000</td>\n",
       "      <td>510.000000</td>\n",
       "      <td>510.000000</td>\n",
       "      <td>510.000000</td>\n",
       "      <td>510.000000</td>\n",
       "      <td>510.000000</td>\n",
       "    </tr>\n",
       "    <tr>\n",
       "      <th>mean</th>\n",
       "      <td>0.507843</td>\n",
       "      <td>0.025490</td>\n",
       "      <td>0.676471</td>\n",
       "      <td>0.513156</td>\n",
       "      <td>0.568116</td>\n",
       "      <td>0.320883</td>\n",
       "      <td>0.513499</td>\n",
       "      <td>0.096078</td>\n",
       "      <td>0.084314</td>\n",
       "      <td>0.066667</td>\n",
       "      <td>...</td>\n",
       "      <td>0.247059</td>\n",
       "      <td>0.247059</td>\n",
       "      <td>0.150980</td>\n",
       "      <td>0.154902</td>\n",
       "      <td>0.143137</td>\n",
       "      <td>0.133333</td>\n",
       "      <td>0.131373</td>\n",
       "      <td>0.158824</td>\n",
       "      <td>0.029412</td>\n",
       "      <td>0.345098</td>\n",
       "    </tr>\n",
       "    <tr>\n",
       "      <th>std</th>\n",
       "      <td>0.500429</td>\n",
       "      <td>0.157763</td>\n",
       "      <td>0.468282</td>\n",
       "      <td>0.212410</td>\n",
       "      <td>0.177295</td>\n",
       "      <td>0.169803</td>\n",
       "      <td>0.224421</td>\n",
       "      <td>0.294988</td>\n",
       "      <td>0.278131</td>\n",
       "      <td>0.249689</td>\n",
       "      <td>...</td>\n",
       "      <td>0.431725</td>\n",
       "      <td>0.431725</td>\n",
       "      <td>0.358381</td>\n",
       "      <td>0.362166</td>\n",
       "      <td>0.350557</td>\n",
       "      <td>0.340268</td>\n",
       "      <td>0.338139</td>\n",
       "      <td>0.365870</td>\n",
       "      <td>0.169124</td>\n",
       "      <td>0.475867</td>\n",
       "    </tr>\n",
       "    <tr>\n",
       "      <th>min</th>\n",
       "      <td>0.000000</td>\n",
       "      <td>0.000000</td>\n",
       "      <td>0.000000</td>\n",
       "      <td>0.000000</td>\n",
       "      <td>0.000000</td>\n",
       "      <td>0.000000</td>\n",
       "      <td>0.000000</td>\n",
       "      <td>0.000000</td>\n",
       "      <td>0.000000</td>\n",
       "      <td>0.000000</td>\n",
       "      <td>...</td>\n",
       "      <td>0.000000</td>\n",
       "      <td>0.000000</td>\n",
       "      <td>0.000000</td>\n",
       "      <td>0.000000</td>\n",
       "      <td>0.000000</td>\n",
       "      <td>0.000000</td>\n",
       "      <td>0.000000</td>\n",
       "      <td>0.000000</td>\n",
       "      <td>0.000000</td>\n",
       "      <td>0.000000</td>\n",
       "    </tr>\n",
       "    <tr>\n",
       "      <th>25%</th>\n",
       "      <td>0.000000</td>\n",
       "      <td>0.000000</td>\n",
       "      <td>0.000000</td>\n",
       "      <td>0.332086</td>\n",
       "      <td>0.428913</td>\n",
       "      <td>0.199179</td>\n",
       "      <td>0.356420</td>\n",
       "      <td>0.000000</td>\n",
       "      <td>0.000000</td>\n",
       "      <td>0.000000</td>\n",
       "      <td>...</td>\n",
       "      <td>0.000000</td>\n",
       "      <td>0.000000</td>\n",
       "      <td>0.000000</td>\n",
       "      <td>0.000000</td>\n",
       "      <td>0.000000</td>\n",
       "      <td>0.000000</td>\n",
       "      <td>0.000000</td>\n",
       "      <td>0.000000</td>\n",
       "      <td>0.000000</td>\n",
       "      <td>0.000000</td>\n",
       "    </tr>\n",
       "    <tr>\n",
       "      <th>50%</th>\n",
       "      <td>1.000000</td>\n",
       "      <td>0.000000</td>\n",
       "      <td>1.000000</td>\n",
       "      <td>0.529718</td>\n",
       "      <td>0.570553</td>\n",
       "      <td>0.296763</td>\n",
       "      <td>0.518638</td>\n",
       "      <td>0.000000</td>\n",
       "      <td>0.000000</td>\n",
       "      <td>0.000000</td>\n",
       "      <td>...</td>\n",
       "      <td>0.000000</td>\n",
       "      <td>0.000000</td>\n",
       "      <td>0.000000</td>\n",
       "      <td>0.000000</td>\n",
       "      <td>0.000000</td>\n",
       "      <td>0.000000</td>\n",
       "      <td>0.000000</td>\n",
       "      <td>0.000000</td>\n",
       "      <td>0.000000</td>\n",
       "      <td>0.000000</td>\n",
       "    </tr>\n",
       "    <tr>\n",
       "      <th>75%</th>\n",
       "      <td>1.000000</td>\n",
       "      <td>0.000000</td>\n",
       "      <td>1.000000</td>\n",
       "      <td>0.688457</td>\n",
       "      <td>0.695953</td>\n",
       "      <td>0.414447</td>\n",
       "      <td>0.684710</td>\n",
       "      <td>0.000000</td>\n",
       "      <td>0.000000</td>\n",
       "      <td>0.000000</td>\n",
       "      <td>...</td>\n",
       "      <td>0.000000</td>\n",
       "      <td>0.000000</td>\n",
       "      <td>0.000000</td>\n",
       "      <td>0.000000</td>\n",
       "      <td>0.000000</td>\n",
       "      <td>0.000000</td>\n",
       "      <td>0.000000</td>\n",
       "      <td>0.000000</td>\n",
       "      <td>0.000000</td>\n",
       "      <td>1.000000</td>\n",
       "    </tr>\n",
       "    <tr>\n",
       "      <th>max</th>\n",
       "      <td>1.000000</td>\n",
       "      <td>1.000000</td>\n",
       "      <td>1.000000</td>\n",
       "      <td>1.000000</td>\n",
       "      <td>1.000000</td>\n",
       "      <td>1.000000</td>\n",
       "      <td>1.000000</td>\n",
       "      <td>1.000000</td>\n",
       "      <td>1.000000</td>\n",
       "      <td>1.000000</td>\n",
       "      <td>...</td>\n",
       "      <td>1.000000</td>\n",
       "      <td>1.000000</td>\n",
       "      <td>1.000000</td>\n",
       "      <td>1.000000</td>\n",
       "      <td>1.000000</td>\n",
       "      <td>1.000000</td>\n",
       "      <td>1.000000</td>\n",
       "      <td>1.000000</td>\n",
       "      <td>1.000000</td>\n",
       "      <td>1.000000</td>\n",
       "    </tr>\n",
       "  </tbody>\n",
       "</table>\n",
       "<p>8 rows × 29 columns</p>\n",
       "</div>"
      ],
      "text/plain": [
       "               yr     holiday  workingday       atemp         hum   windspeed  \\\n",
       "count  510.000000  510.000000  510.000000  510.000000  510.000000  510.000000   \n",
       "mean     0.507843    0.025490    0.676471    0.513156    0.568116    0.320883   \n",
       "std      0.500429    0.157763    0.468282    0.212410    0.177295    0.169803   \n",
       "min      0.000000    0.000000    0.000000    0.000000    0.000000    0.000000   \n",
       "25%      0.000000    0.000000    0.000000    0.332086    0.428913    0.199179   \n",
       "50%      1.000000    0.000000    1.000000    0.529718    0.570553    0.296763   \n",
       "75%      1.000000    0.000000    1.000000    0.688457    0.695953    0.414447   \n",
       "max      1.000000    1.000000    1.000000    1.000000    1.000000    1.000000   \n",
       "\n",
       "              cnt  mnth_august  mnth_december  mnth_february  ...  \\\n",
       "count  510.000000   510.000000     510.000000     510.000000  ...   \n",
       "mean     0.513499     0.096078       0.084314       0.066667  ...   \n",
       "std      0.224421     0.294988       0.278131       0.249689  ...   \n",
       "min      0.000000     0.000000       0.000000       0.000000  ...   \n",
       "25%      0.356420     0.000000       0.000000       0.000000  ...   \n",
       "50%      0.518638     0.000000       0.000000       0.000000  ...   \n",
       "75%      0.684710     0.000000       0.000000       0.000000  ...   \n",
       "max      1.000000     1.000000       1.000000       1.000000  ...   \n",
       "\n",
       "       season_summer  season_winter  weekday_monday  weekday_saturday  \\\n",
       "count     510.000000     510.000000      510.000000        510.000000   \n",
       "mean        0.247059       0.247059        0.150980          0.154902   \n",
       "std         0.431725       0.431725        0.358381          0.362166   \n",
       "min         0.000000       0.000000        0.000000          0.000000   \n",
       "25%         0.000000       0.000000        0.000000          0.000000   \n",
       "50%         0.000000       0.000000        0.000000          0.000000   \n",
       "75%         0.000000       0.000000        0.000000          0.000000   \n",
       "max         1.000000       1.000000        1.000000          1.000000   \n",
       "\n",
       "       weekday_sunday  weekday_thursday  weekday_tuesday  weekday_wednesday  \\\n",
       "count      510.000000        510.000000       510.000000         510.000000   \n",
       "mean         0.143137          0.133333         0.131373           0.158824   \n",
       "std          0.350557          0.340268         0.338139           0.365870   \n",
       "min          0.000000          0.000000         0.000000           0.000000   \n",
       "25%          0.000000          0.000000         0.000000           0.000000   \n",
       "50%          0.000000          0.000000         0.000000           0.000000   \n",
       "75%          0.000000          0.000000         0.000000           0.000000   \n",
       "max          1.000000          1.000000         1.000000           1.000000   \n",
       "\n",
       "       weathersit_light  weathersit_mist  \n",
       "count        510.000000       510.000000  \n",
       "mean           0.029412         0.345098  \n",
       "std            0.169124         0.475867  \n",
       "min            0.000000         0.000000  \n",
       "25%            0.000000         0.000000  \n",
       "50%            0.000000         0.000000  \n",
       "75%            0.000000         1.000000  \n",
       "max            1.000000         1.000000  \n",
       "\n",
       "[8 rows x 29 columns]"
      ]
     },
     "execution_count": 50,
     "metadata": {},
     "output_type": "execute_result"
    }
   ],
   "source": [
    "# Inspect the scaling \n",
    "df_train.describe()"
   ]
  },
  {
   "cell_type": "code",
   "execution_count": 51,
   "id": "dfa4c839",
   "metadata": {},
   "outputs": [
    {
     "data": {
      "image/png": "[encoded data removed]",
      "text/plain": [
       "<Figure size 720x432 with 2 Axes>"
      ]
     },
     "metadata": {
      "needs_background": "light"
     },
     "output_type": "display_data"
    }
   ],
   "source": [
    "# Let's check the correlation coefficients to see the highest correlation\n",
    "plt.figure(figsize = (10, 6))\n",
    "sns.heatmap(df_train[num_vars].corr(), annot = True, cmap = \"YlGnBu\")\n",
    "plt.show()"
   ]
  },
  {
   "cell_type": "markdown",
   "id": "055dd331",
   "metadata": {},
   "source": [
    "- Clearly, `cnt (i.e. total ride count)` and `atemp (i.e. feeling temperature)` have the highest correlation."
   ]
  },
  {
   "cell_type": "code",
   "execution_count": 52,
   "id": "feda32fb",
   "metadata": {},
   "outputs": [
    {
     "data": {
      "image/png": "[encoded data removed]",
      "text/plain": [
       "<Figure size 432x432 with 1 Axes>"
      ]
     },
     "metadata": {
      "needs_background": "light"
     },
     "output_type": "display_data"
    }
   ],
   "source": [
    "# Visualize the trend between two most correlated variables\n",
    "plt.figure(figsize = [6, 6])\n",
    "plt.scatter(df_train.cnt, df_train.atemp)\n",
    "plt.show()"
   ]
  },
  {
   "cell_type": "markdown",
   "id": "6541deed",
   "metadata": {},
   "source": [
    "- Thus, we choose `cnt (i.e. total ride count)` as the response variable."
   ]
  },
  {
   "cell_type": "markdown",
   "id": "065da36a",
   "metadata": {},
   "source": [
    "#### Step 5.3: Model Selection by Iteration"
   ]
  },
  {
   "cell_type": "code",
   "execution_count": 53,
   "id": "ee3f8b25",
   "metadata": {},
   "outputs": [],
   "source": [
    "# Dividing the training data into X and Y sets for the model building\n",
    "y_train = df_train.pop('cnt')\n",
    "X_train = df_train"
   ]
  },
  {
   "cell_type": "code",
   "execution_count": 54,
   "id": "41ecc3ab",
   "metadata": {},
   "outputs": [],
   "source": [
    "# Running Recursive Feature Elimination (RFE) to select top 10 features\n",
    "lm = LinearRegression()\n",
    "lm.fit(X_train, y_train)\n",
    "rfe = RFE(lm, 10)\n",
    "rfe = rfe.fit(X_train, y_train)"
   ]
  },
  {
   "cell_type": "code",
   "execution_count": 55,
   "id": "1ac49b38",
   "metadata": {},
   "outputs": [
    {
     "data": {
      "text/plain": [
       "Index(['yr', 'holiday', 'atemp', 'hum', 'windspeed', 'mnth_august',\n",
       "       'mnth_september', 'season_summer', 'season_winter', 'weathersit_light'],\n",
       "      dtype='object')"
      ]
     },
     "execution_count": 55,
     "metadata": {},
     "output_type": "execute_result"
    }
   ],
   "source": [
    "# Columns with RFE support\n",
    "col = X_train.columns[rfe.support_]\n",
    "col"
   ]
  },
  {
   "cell_type": "code",
   "execution_count": 56,
   "id": "31d06b5c",
   "metadata": {},
   "outputs": [
    {
     "data": {
      "text/plain": [
       "Index(['workingday', 'mnth_december', 'mnth_february', 'mnth_january',\n",
       "       'mnth_july', 'mnth_june', 'mnth_march', 'mnth_may', 'mnth_november',\n",
       "       'mnth_october', 'season_spring', 'weekday_monday', 'weekday_saturday',\n",
       "       'weekday_sunday', 'weekday_thursday', 'weekday_tuesday',\n",
       "       'weekday_wednesday', 'weathersit_mist'],\n",
       "      dtype='object')"
      ]
     },
     "execution_count": 56,
     "metadata": {},
     "output_type": "execute_result"
    }
   ],
   "source": [
    "# Columns without RFE support\n",
    "X_train.columns[~rfe.support_]"
   ]
  },
  {
   "cell_type": "code",
   "execution_count": 57,
   "id": "8d395c70",
   "metadata": {},
   "outputs": [
    {
     "name": "stdout",
     "output_type": "stream",
     "text": [
      "                            OLS Regression Results                            \n",
      "==============================================================================\n",
      "Dep. Variable:                    cnt   R-squared:                       0.829\n",
      "Model:                            OLS   Adj. R-squared:                  0.826\n",
      "Method:                 Least Squares   F-statistic:                     242.3\n",
      "Date:                Wed, 10 Aug 2022   Prob (F-statistic):          2.37e-184\n",
      "Time:                        18:50:11   Log-Likelihood:                 489.63\n",
      "No. Observations:                 510   AIC:                            -957.3\n",
      "Df Residuals:                     499   BIC:                            -910.7\n",
      "Df Model:                          10                                         \n",
      "Covariance Type:            nonrobust                                         \n",
      "====================================================================================\n",
      "                       coef    std err          t      P>|t|      [0.025      0.975]\n",
      "------------------------------------------------------------------------------------\n",
      "const                0.2272      0.022     10.130      0.000       0.183       0.271\n",
      "yr                   0.2263      0.008     26.925      0.000       0.210       0.243\n",
      "holiday             -0.0859      0.027     -3.241      0.001      -0.138      -0.034\n",
      "atemp                0.5914      0.023     25.309      0.000       0.545       0.637\n",
      "hum                 -0.2490      0.027     -9.303      0.000      -0.302      -0.196\n",
      "windspeed           -0.1857      0.026     -7.010      0.000      -0.238      -0.134\n",
      "mnth_august          0.0641      0.017      3.852      0.000       0.031       0.097\n",
      "mnth_september       0.1239      0.017      7.407      0.000       0.091       0.157\n",
      "season_summer        0.0982      0.011      8.705      0.000       0.076       0.120\n",
      "season_winter        0.1443      0.011     13.143      0.000       0.123       0.166\n",
      "weathersit_light    -0.1661      0.026     -6.305      0.000      -0.218      -0.114\n",
      "==============================================================================\n",
      "Omnibus:                       53.922   Durbin-Watson:                   2.014\n",
      "Prob(Omnibus):                  0.000   Jarque-Bera (JB):              126.002\n",
      "Skew:                          -0.566   Prob(JB):                     4.36e-28\n",
      "Kurtosis:                       5.156   Cond. No.                         13.3\n",
      "==============================================================================\n",
      "\n",
      "Notes:\n",
      "[1] Standard Errors assume that the covariance matrix of the errors is correctly specified.\n"
     ]
    }
   ],
   "source": [
    "# Adding constant  \n",
    "X_train_rfe = sm.add_constant(X_train[col])\n",
    "\n",
    "# Running the linear model\n",
    "lr_model_1 = sm.OLS(y_train, X_train_rfe).fit() \n",
    "\n",
    "# Model summary\n",
    "print(lr_model_1.summary())"
   ]
  },
  {
   "cell_type": "markdown",
   "id": "2be70110",
   "metadata": {},
   "source": [
    "- The `p-values` of all variables are `less than 0.05`, so `next` we need to `investigate` the `VIF values` of all variables."
   ]
  },
  {
   "cell_type": "code",
   "execution_count": 58,
   "id": "3293880e",
   "metadata": {},
   "outputs": [
    {
     "name": "stdout",
     "output_type": "stream",
     "text": [
      "           Features   VIF\n",
      "3               hum  8.01\n",
      "2             atemp  7.89\n",
      "4         windspeed  3.25\n",
      "0                yr  2.00\n",
      "7     season_summer  1.83\n",
      "8     season_winter  1.70\n",
      "5       mnth_august  1.54\n",
      "6    mnth_september  1.30\n",
      "9  weathersit_light  1.13\n",
      "1           holiday  1.04\n"
     ]
    }
   ],
   "source": [
    "# Check VIF values\n",
    "vif = pd.DataFrame()\n",
    "X = X_train[col]\n",
    "vif['Features'] = X.columns\n",
    "vif['VIF'] = [variance_inflation_factor(X.values, i) for i in range(X.shape[1])]\n",
    "vif['VIF'] = round(vif['VIF'], 2)\n",
    "vif = vif.sort_values(by = \"VIF\", ascending = False)\n",
    "print(vif)"
   ]
  },
  {
   "cell_type": "markdown",
   "id": "449abd2b",
   "metadata": {},
   "source": [
    "- Among all the variables, the `hum` variable has the highest VIF value, which is `greater than 5`, so we may optionally drop it. But still, we `remove` this variable for `better treatment of multicollinearity` in the model."
   ]
  },
  {
   "cell_type": "code",
   "execution_count": 59,
   "id": "9c195dd5",
   "metadata": {},
   "outputs": [
    {
     "name": "stdout",
     "output_type": "stream",
     "text": [
      "                            OLS Regression Results                            \n",
      "==============================================================================\n",
      "Dep. Variable:                    cnt   R-squared:                       0.800\n",
      "Model:                            OLS   Adj. R-squared:                  0.796\n",
      "Method:                 Least Squares   F-statistic:                     221.7\n",
      "Date:                Wed, 10 Aug 2022   Prob (F-statistic):          2.87e-168\n",
      "Time:                        18:50:11   Log-Likelihood:                 448.84\n",
      "No. Observations:                 510   AIC:                            -877.7\n",
      "Df Residuals:                     500   BIC:                            -835.3\n",
      "Df Model:                           9                                         \n",
      "Covariance Type:            nonrobust                                         \n",
      "====================================================================================\n",
      "                       coef    std err          t      P>|t|      [0.025      0.975]\n",
      "------------------------------------------------------------------------------------\n",
      "const                0.0862      0.018      4.817      0.000       0.051       0.121\n",
      "yr                   0.2342      0.009     25.882      0.000       0.216       0.252\n",
      "holiday             -0.0813      0.029     -2.835      0.005      -0.138      -0.025\n",
      "atemp                0.5674      0.025     22.576      0.000       0.518       0.617\n",
      "windspeed           -0.1239      0.028     -4.463      0.000      -0.178      -0.069\n",
      "mnth_august          0.0538      0.018      2.993      0.003       0.018       0.089\n",
      "mnth_september       0.1048      0.018      5.834      0.000       0.070       0.140\n",
      "season_summer        0.0880      0.012      7.245      0.000       0.064       0.112\n",
      "season_winter        0.1252      0.012     10.729      0.000       0.102       0.148\n",
      "weathersit_light    -0.2454      0.027     -9.096      0.000      -0.298      -0.192\n",
      "==============================================================================\n",
      "Omnibus:                       58.134   Durbin-Watson:                   1.990\n",
      "Prob(Omnibus):                  0.000   Jarque-Bera (JB):              114.823\n",
      "Skew:                          -0.665   Prob(JB):                     1.17e-25\n",
      "Kurtosis:                       4.907   Cond. No.                         10.1\n",
      "==============================================================================\n",
      "\n",
      "Notes:\n",
      "[1] Standard Errors assume that the covariance matrix of the errors is correctly specified.\n"
     ]
    }
   ],
   "source": [
    "# Dropping 'holiday' from the list of RFE supported variables\n",
    "col = col.drop(['hum'])\n",
    "\n",
    "# Adding constant  \n",
    "X_train_lm = sm.add_constant(X_train[col])\n",
    "\n",
    "# Running the linear model\n",
    "lr_model_2 = sm.OLS(y_train, X_train_lm).fit() \n",
    "\n",
    "# Model summary\n",
    "print(lr_model_2.summary())"
   ]
  },
  {
   "cell_type": "markdown",
   "id": "5f2f29d2",
   "metadata": {},
   "source": [
    "- The `p-values` of all variables are `less than 0.05`, so `next` we need to `investigate` the `VIF values` of all variables."
   ]
  },
  {
   "cell_type": "code",
   "execution_count": 60,
   "id": "f394234b",
   "metadata": {},
   "outputs": [
    {
     "name": "stdout",
     "output_type": "stream",
     "text": [
      "           Features   VIF\n",
      "2             atemp  4.90\n",
      "3         windspeed  2.96\n",
      "0                yr  2.00\n",
      "6     season_summer  1.80\n",
      "4       mnth_august  1.54\n",
      "7     season_winter  1.46\n",
      "5    mnth_september  1.29\n",
      "8  weathersit_light  1.06\n",
      "1           holiday  1.04\n"
     ]
    }
   ],
   "source": [
    "# Check VIF values\n",
    "vif = pd.DataFrame()\n",
    "X = X_train[col]\n",
    "vif['Features'] = X.columns\n",
    "vif['VIF'] = [variance_inflation_factor(X.values, i) for i in range(X.shape[1])]\n",
    "vif['VIF'] = round(vif['VIF'], 2)\n",
    "vif = vif.sort_values(by = \"VIF\", ascending = False)\n",
    "print(vif)"
   ]
  },
  {
   "cell_type": "markdown",
   "id": "45bfb32e",
   "metadata": {},
   "source": [
    "- Clearly, the VIF value of the 'atemp' variable is the highest among all and that value is less than 5, so we do not need to drop any variable from the model.\n",
    "\n",
    "- This is the final model because all of the p-values and VIF values are within the acceptable range."
   ]
  },
  {
   "cell_type": "markdown",
   "id": "228493c7",
   "metadata": {},
   "source": [
    "- The `best fitted model equation` is ->\n",
    "\n",
    "`cnt` = 0.0862 + (`yr` × 0.2342) - (`holiday` × 0.0813) + (`atemp` × 0.5674) - (`windspeed` × 0.1239) + (`mnth_august` × 0.0538) + (`mnth_september` × 0.1048) + (`season_summer` × 0.0880) + (`season_winter` × 0.1252) - (`weathersit_light` × 0.2454)"
   ]
  },
  {
   "cell_type": "markdown",
   "id": "b067e081",
   "metadata": {},
   "source": [
    "### Step 5: Residual Analysis on the Train Data"
   ]
  },
  {
   "cell_type": "code",
   "execution_count": 61,
   "id": "d3f19a33",
   "metadata": {},
   "outputs": [
    {
     "data": {
      "image/png": "[encoded data removed]",
      "text/plain": [
       "<Figure size 432x288 with 1 Axes>"
      ]
     },
     "metadata": {
      "needs_background": "light"
     },
     "output_type": "display_data"
    }
   ],
   "source": [
    "# Check the distribution of error term\n",
    "y_train_pred = lr_model_2.predict(X_train_lm)\n",
    "residual = y_train_pred - y_train\n",
    "sns.distplot(residual)\n",
    "plt.xlabel('Residual Error Term', fontdict = {'fontsize': 20})\n",
    "plt.title('Error Distribution', fontdict = {'fontsize': 25})\n",
    "plt.show()"
   ]
  },
  {
   "cell_type": "markdown",
   "id": "edeee107",
   "metadata": {},
   "source": [
    "- Error terms are normally distributed with mean zero."
   ]
  },
  {
   "cell_type": "markdown",
   "id": "435513fa",
   "metadata": {},
   "source": [
    "### Step 6: Model Prediction"
   ]
  },
  {
   "cell_type": "code",
   "execution_count": 62,
   "id": "6cf780ca",
   "metadata": {},
   "outputs": [
    {
     "data": {
      "text/html": [
       "<div>\n",
       "<style scoped>\n",
       "    .dataframe tbody tr th:only-of-type {\n",
       "        vertical-align: middle;\n",
       "    }\n",
       "\n",
       "    .dataframe tbody tr th {\n",
       "        vertical-align: top;\n",
       "    }\n",
       "\n",
       "    .dataframe thead th {\n",
       "        text-align: right;\n",
       "    }\n",
       "</style>\n",
       "<table border=\"1\" class=\"dataframe\">\n",
       "  <thead>\n",
       "    <tr style=\"text-align: right;\">\n",
       "      <th></th>\n",
       "      <th>yr</th>\n",
       "      <th>holiday</th>\n",
       "      <th>workingday</th>\n",
       "      <th>atemp</th>\n",
       "      <th>hum</th>\n",
       "      <th>windspeed</th>\n",
       "      <th>cnt</th>\n",
       "      <th>mnth_august</th>\n",
       "      <th>mnth_december</th>\n",
       "      <th>mnth_february</th>\n",
       "      <th>...</th>\n",
       "      <th>season_summer</th>\n",
       "      <th>season_winter</th>\n",
       "      <th>weekday_monday</th>\n",
       "      <th>weekday_saturday</th>\n",
       "      <th>weekday_sunday</th>\n",
       "      <th>weekday_thursday</th>\n",
       "      <th>weekday_tuesday</th>\n",
       "      <th>weekday_wednesday</th>\n",
       "      <th>weathersit_light</th>\n",
       "      <th>weathersit_mist</th>\n",
       "    </tr>\n",
       "  </thead>\n",
       "  <tbody>\n",
       "    <tr>\n",
       "      <th>count</th>\n",
       "      <td>220.000000</td>\n",
       "      <td>220.000000</td>\n",
       "      <td>220.000000</td>\n",
       "      <td>220.000000</td>\n",
       "      <td>220.000000</td>\n",
       "      <td>220.000000</td>\n",
       "      <td>220.000000</td>\n",
       "      <td>220.000000</td>\n",
       "      <td>220.000000</td>\n",
       "      <td>220.000000</td>\n",
       "      <td>...</td>\n",
       "      <td>220.000000</td>\n",
       "      <td>220.000000</td>\n",
       "      <td>220.000000</td>\n",
       "      <td>220.000000</td>\n",
       "      <td>220.000000</td>\n",
       "      <td>220.000000</td>\n",
       "      <td>220.000000</td>\n",
       "      <td>220.000000</td>\n",
       "      <td>220.000000</td>\n",
       "      <td>220.000000</td>\n",
       "    </tr>\n",
       "    <tr>\n",
       "      <th>mean</th>\n",
       "      <td>0.481818</td>\n",
       "      <td>0.036364</td>\n",
       "      <td>0.700000</td>\n",
       "      <td>0.532847</td>\n",
       "      <td>0.551340</td>\n",
       "      <td>0.313293</td>\n",
       "      <td>0.522154</td>\n",
       "      <td>0.059091</td>\n",
       "      <td>0.086364</td>\n",
       "      <td>0.100000</td>\n",
       "      <td>...</td>\n",
       "      <td>0.263636</td>\n",
       "      <td>0.236364</td>\n",
       "      <td>0.127273</td>\n",
       "      <td>0.118182</td>\n",
       "      <td>0.145455</td>\n",
       "      <td>0.163636</td>\n",
       "      <td>0.168182</td>\n",
       "      <td>0.100000</td>\n",
       "      <td>0.027273</td>\n",
       "      <td>0.318182</td>\n",
       "    </tr>\n",
       "    <tr>\n",
       "      <th>std</th>\n",
       "      <td>0.500809</td>\n",
       "      <td>0.187620</td>\n",
       "      <td>0.459303</td>\n",
       "      <td>0.217401</td>\n",
       "      <td>0.184403</td>\n",
       "      <td>0.159584</td>\n",
       "      <td>0.219163</td>\n",
       "      <td>0.236333</td>\n",
       "      <td>0.281541</td>\n",
       "      <td>0.300684</td>\n",
       "      <td>...</td>\n",
       "      <td>0.441609</td>\n",
       "      <td>0.425817</td>\n",
       "      <td>0.334038</td>\n",
       "      <td>0.323559</td>\n",
       "      <td>0.353363</td>\n",
       "      <td>0.370789</td>\n",
       "      <td>0.374881</td>\n",
       "      <td>0.300684</td>\n",
       "      <td>0.163248</td>\n",
       "      <td>0.466833</td>\n",
       "    </tr>\n",
       "    <tr>\n",
       "      <th>min</th>\n",
       "      <td>0.000000</td>\n",
       "      <td>0.000000</td>\n",
       "      <td>0.000000</td>\n",
       "      <td>0.025950</td>\n",
       "      <td>0.084665</td>\n",
       "      <td>-0.042808</td>\n",
       "      <td>0.048205</td>\n",
       "      <td>0.000000</td>\n",
       "      <td>0.000000</td>\n",
       "      <td>0.000000</td>\n",
       "      <td>...</td>\n",
       "      <td>0.000000</td>\n",
       "      <td>0.000000</td>\n",
       "      <td>0.000000</td>\n",
       "      <td>0.000000</td>\n",
       "      <td>0.000000</td>\n",
       "      <td>0.000000</td>\n",
       "      <td>0.000000</td>\n",
       "      <td>0.000000</td>\n",
       "      <td>0.000000</td>\n",
       "      <td>0.000000</td>\n",
       "    </tr>\n",
       "    <tr>\n",
       "      <th>25%</th>\n",
       "      <td>0.000000</td>\n",
       "      <td>0.000000</td>\n",
       "      <td>0.000000</td>\n",
       "      <td>0.344870</td>\n",
       "      <td>0.416134</td>\n",
       "      <td>0.198843</td>\n",
       "      <td>0.378595</td>\n",
       "      <td>0.000000</td>\n",
       "      <td>0.000000</td>\n",
       "      <td>0.000000</td>\n",
       "      <td>...</td>\n",
       "      <td>0.000000</td>\n",
       "      <td>0.000000</td>\n",
       "      <td>0.000000</td>\n",
       "      <td>0.000000</td>\n",
       "      <td>0.000000</td>\n",
       "      <td>0.000000</td>\n",
       "      <td>0.000000</td>\n",
       "      <td>0.000000</td>\n",
       "      <td>0.000000</td>\n",
       "      <td>0.000000</td>\n",
       "    </tr>\n",
       "    <tr>\n",
       "      <th>50%</th>\n",
       "      <td>0.000000</td>\n",
       "      <td>0.000000</td>\n",
       "      <td>1.000000</td>\n",
       "      <td>0.544652</td>\n",
       "      <td>0.535676</td>\n",
       "      <td>0.300126</td>\n",
       "      <td>0.524678</td>\n",
       "      <td>0.000000</td>\n",
       "      <td>0.000000</td>\n",
       "      <td>0.000000</td>\n",
       "      <td>...</td>\n",
       "      <td>0.000000</td>\n",
       "      <td>0.000000</td>\n",
       "      <td>0.000000</td>\n",
       "      <td>0.000000</td>\n",
       "      <td>0.000000</td>\n",
       "      <td>0.000000</td>\n",
       "      <td>0.000000</td>\n",
       "      <td>0.000000</td>\n",
       "      <td>0.000000</td>\n",
       "      <td>0.000000</td>\n",
       "    </tr>\n",
       "    <tr>\n",
       "      <th>75%</th>\n",
       "      <td>1.000000</td>\n",
       "      <td>0.000000</td>\n",
       "      <td>1.000000</td>\n",
       "      <td>0.713308</td>\n",
       "      <td>0.682271</td>\n",
       "      <td>0.402718</td>\n",
       "      <td>0.677750</td>\n",
       "      <td>0.000000</td>\n",
       "      <td>0.000000</td>\n",
       "      <td>0.000000</td>\n",
       "      <td>...</td>\n",
       "      <td>1.000000</td>\n",
       "      <td>0.000000</td>\n",
       "      <td>0.000000</td>\n",
       "      <td>0.000000</td>\n",
       "      <td>0.000000</td>\n",
       "      <td>0.000000</td>\n",
       "      <td>0.000000</td>\n",
       "      <td>0.000000</td>\n",
       "      <td>0.000000</td>\n",
       "      <td>1.000000</td>\n",
       "    </tr>\n",
       "    <tr>\n",
       "      <th>max</th>\n",
       "      <td>1.000000</td>\n",
       "      <td>1.000000</td>\n",
       "      <td>1.000000</td>\n",
       "      <td>0.980934</td>\n",
       "      <td>1.002662</td>\n",
       "      <td>0.807474</td>\n",
       "      <td>0.963300</td>\n",
       "      <td>1.000000</td>\n",
       "      <td>1.000000</td>\n",
       "      <td>1.000000</td>\n",
       "      <td>...</td>\n",
       "      <td>1.000000</td>\n",
       "      <td>1.000000</td>\n",
       "      <td>1.000000</td>\n",
       "      <td>1.000000</td>\n",
       "      <td>1.000000</td>\n",
       "      <td>1.000000</td>\n",
       "      <td>1.000000</td>\n",
       "      <td>1.000000</td>\n",
       "      <td>1.000000</td>\n",
       "      <td>1.000000</td>\n",
       "    </tr>\n",
       "  </tbody>\n",
       "</table>\n",
       "<p>8 rows × 29 columns</p>\n",
       "</div>"
      ],
      "text/plain": [
       "               yr     holiday  workingday       atemp         hum   windspeed  \\\n",
       "count  220.000000  220.000000  220.000000  220.000000  220.000000  220.000000   \n",
       "mean     0.481818    0.036364    0.700000    0.532847    0.551340    0.313293   \n",
       "std      0.500809    0.187620    0.459303    0.217401    0.184403    0.159584   \n",
       "min      0.000000    0.000000    0.000000    0.025950    0.084665   -0.042808   \n",
       "25%      0.000000    0.000000    0.000000    0.344870    0.416134    0.198843   \n",
       "50%      0.000000    0.000000    1.000000    0.544652    0.535676    0.300126   \n",
       "75%      1.000000    0.000000    1.000000    0.713308    0.682271    0.402718   \n",
       "max      1.000000    1.000000    1.000000    0.980934    1.002662    0.807474   \n",
       "\n",
       "              cnt  mnth_august  mnth_december  mnth_february  ...  \\\n",
       "count  220.000000   220.000000     220.000000     220.000000  ...   \n",
       "mean     0.522154     0.059091       0.086364       0.100000  ...   \n",
       "std      0.219163     0.236333       0.281541       0.300684  ...   \n",
       "min      0.048205     0.000000       0.000000       0.000000  ...   \n",
       "25%      0.378595     0.000000       0.000000       0.000000  ...   \n",
       "50%      0.524678     0.000000       0.000000       0.000000  ...   \n",
       "75%      0.677750     0.000000       0.000000       0.000000  ...   \n",
       "max      0.963300     1.000000       1.000000       1.000000  ...   \n",
       "\n",
       "       season_summer  season_winter  weekday_monday  weekday_saturday  \\\n",
       "count     220.000000     220.000000      220.000000        220.000000   \n",
       "mean        0.263636       0.236364        0.127273          0.118182   \n",
       "std         0.441609       0.425817        0.334038          0.323559   \n",
       "min         0.000000       0.000000        0.000000          0.000000   \n",
       "25%         0.000000       0.000000        0.000000          0.000000   \n",
       "50%         0.000000       0.000000        0.000000          0.000000   \n",
       "75%         1.000000       0.000000        0.000000          0.000000   \n",
       "max         1.000000       1.000000        1.000000          1.000000   \n",
       "\n",
       "       weekday_sunday  weekday_thursday  weekday_tuesday  weekday_wednesday  \\\n",
       "count      220.000000        220.000000       220.000000         220.000000   \n",
       "mean         0.145455          0.163636         0.168182           0.100000   \n",
       "std          0.353363          0.370789         0.374881           0.300684   \n",
       "min          0.000000          0.000000         0.000000           0.000000   \n",
       "25%          0.000000          0.000000         0.000000           0.000000   \n",
       "50%          0.000000          0.000000         0.000000           0.000000   \n",
       "75%          0.000000          0.000000         0.000000           0.000000   \n",
       "max          1.000000          1.000000         1.000000           1.000000   \n",
       "\n",
       "       weathersit_light  weathersit_mist  \n",
       "count        220.000000       220.000000  \n",
       "mean           0.027273         0.318182  \n",
       "std            0.163248         0.466833  \n",
       "min            0.000000         0.000000  \n",
       "25%            0.000000         0.000000  \n",
       "50%            0.000000         0.000000  \n",
       "75%            0.000000         1.000000  \n",
       "max            1.000000         1.000000  \n",
       "\n",
       "[8 rows x 29 columns]"
      ]
     },
     "execution_count": 62,
     "metadata": {},
     "output_type": "execute_result"
    }
   ],
   "source": [
    "# Transform the test dataset\n",
    "df_test[num_vars] = scaler.transform(df_test[num_vars])\n",
    "df_test.describe()"
   ]
  },
  {
   "cell_type": "code",
   "execution_count": 63,
   "id": "2cc7c132",
   "metadata": {},
   "outputs": [],
   "source": [
    "# Dividing the test data into X and Y sets for the model prediction\n",
    "y_test = df_test.pop('cnt')\n",
    "X_test = df_test"
   ]
  },
  {
   "cell_type": "code",
   "execution_count": 64,
   "id": "af9bf718",
   "metadata": {},
   "outputs": [],
   "source": [
    "# Adding constant\n",
    "X_test_rfe = X_test[col]\n",
    "X_test_sm = sm.add_constant(X_test_rfe)"
   ]
  },
  {
   "cell_type": "code",
   "execution_count": 65,
   "id": "70cf1211",
   "metadata": {},
   "outputs": [],
   "source": [
    "# Make prediction\n",
    "y_test_pred = lr_model_2.predict(X_test_sm)"
   ]
  },
  {
   "cell_type": "markdown",
   "id": "cbef5f8e",
   "metadata": {},
   "source": [
    "### Step 7: Error Analysis"
   ]
  },
  {
   "cell_type": "code",
   "execution_count": 66,
   "id": "c95e54fa",
   "metadata": {},
   "outputs": [
    {
     "data": {
      "image/png": "[encoded data removed]",
      "text/plain": [
       "<Figure size 432x288 with 1 Axes>"
      ]
     },
     "metadata": {
      "needs_background": "light"
     },
     "output_type": "display_data"
    }
   ],
   "source": [
    "# Plotting y_test and y_pred to understand the spread\n",
    "fig = plt.figure()\n",
    "sns.regplot(y_test, y_test_pred)\n",
    "fig.suptitle('y_test vs y_test_pred', fontsize = 20)        \n",
    "plt.xlabel('y_test', fontsize = 18)     \n",
    "plt.ylabel('y_test_pred', fontsize = 16) \n",
    "plt.show()"
   ]
  },
  {
   "cell_type": "code",
   "execution_count": 67,
   "id": "f4c42895",
   "metadata": {},
   "outputs": [
    {
     "name": "stdout",
     "output_type": "stream",
     "text": [
      "0.774\n"
     ]
    }
   ],
   "source": [
    "# Calculate the R2 score\n",
    "r2 = round(r2_score(y_true = y_test, y_pred = y_test_pred), 3)\n",
    "print(r2)"
   ]
  },
  {
   "cell_type": "markdown",
   "id": "193cb452",
   "metadata": {},
   "source": [
    "### Step 8: Making Final Business Decisions"
   ]
  },
  {
   "cell_type": "markdown",
   "id": "0628605a",
   "metadata": {},
   "source": [
    "- **Training Data**\n",
    "    - R<sup>2</sup> value = 0.800\n",
    "    - Adjusted R<sup>2</sup> value = 0.796\n",
    "    \n",
    "- **Test Data**\n",
    "    - R<sup>2</sup> value = 0.774\n",
    "    - Adjusted R<sup>2</sup> value = 0.763"
   ]
  },
  {
   "cell_type": "markdown",
   "id": "708ffd53",
   "metadata": {},
   "source": [
    "- The difference in R<sup>2</sup> values between the train and test datasets is `0.800 - 0.774 = 0.026 (less than 0.5)`. Additionally, the difference in adjusted-R<sup>2</sup> values between the train and test datasets is `0.796 - 0.763 = 0.033 (less than 0.5)`. As a result, using the training data, we effectively built a predictive model."
   ]
  },
  {
   "cell_type": "markdown",
   "id": "87e09281",
   "metadata": {},
   "source": [
    "- In terms of achieving business goals, `feeling temperature i.e. 'atemp' variable`, `Light Weather (Snow/Rain/Thunderstorm/Scattered clouds etc.) i.e. 'weathersit_light' variable`, and `year i.e. 'yr' variable` are the top three parameters for booking bike rides."
   ]
  }
 ],
 "metadata": {
  "kernelspec": {
   "display_name": "Python 3 (ipykernel)",
   "language": "python",
   "name": "python3"
  },
  "language_info": {
   "codemirror_mode": {
    "name": "ipython",
    "version": 3
   },
   "file_extension": ".py",
   "mimetype": "text/x-python",
   "name": "python",
   "nbconvert_exporter": "python",
   "pygments_lexer": "ipython3",
   "version": "3.9.7"
  }
 },
 "nbformat": 4,
 "nbformat_minor": 5
}
